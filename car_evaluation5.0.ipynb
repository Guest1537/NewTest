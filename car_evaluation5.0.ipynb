{
 "cells": [
  {
   "cell_type": "markdown",
   "metadata": {},
   "source": [
    "## Problem Description\n",
    "\n",
    "`car_evaluation` is a car dataset\n",
    "\n",
    "Evaluating a Car based on some popular attributes which could be beneficial in decision making while purchasing a Car, Who do not have enough knowledge about Cars.\n",
    "\n",
    "Derived from simple hierarchical decision model, this database may be useful for testing constructive induction and structure discovery methods.\n",
    "\n",
    "Use machine learning to build a classifier which tells how good a car is"
   ]
  },
  {
   "cell_type": "code",
   "metadata": {
    "ExecuteTime": {
     "end_time": "2025-04-11T11:29:29.258511Z",
     "start_time": "2025-04-11T11:29:29.254595Z"
    }
   },
   "source": [
    "#RS 只有第一次运行时需要安装依赖，之后可以注释掉节约时间\n",
    "#!pip install numpy pandas matplotlib seaborn scikit-learn category_encoders --quiet"
   ],
   "outputs": [],
   "execution_count": 358
  },
  {
   "cell_type": "code",
   "metadata": {
    "scrolled": true,
    "ExecuteTime": {
     "end_time": "2025-04-11T11:29:29.309848Z",
     "start_time": "2025-04-11T11:29:29.306495Z"
    }
   },
   "source": [
    "import sys\n",
    "import numpy as np # linear algebra\n",
    "import pandas as pd # data processing, CSV file I/O (e.g. pd.read_csv)\n",
    "import matplotlib.pyplot as plt # data visualization\n",
    "import seaborn as sns # statistical data visualization\n",
    "import os"
   ],
   "outputs": [],
   "execution_count": 359
  },
  {
   "cell_type": "code",
   "metadata": {
    "ExecuteTime": {
     "end_time": "2025-04-11T11:29:29.320003Z",
     "start_time": "2025-04-11T11:29:29.313834Z"
    }
   },
   "source": [
    "#RS 使用时需要将dataPath改为自己数据保存路径\n",
    "dataPath = 'D:/学习/CPT406 AI/cw/car_evaluation.csv'\n",
    "df = pd.read_csv(dataPath, header=None)"
   ],
   "outputs": [],
   "execution_count": 360
  },
  {
   "cell_type": "code",
   "metadata": {
    "ExecuteTime": {
     "end_time": "2025-04-11T11:29:29.350890Z",
     "start_time": "2025-04-11T11:29:29.347263Z"
    }
   },
   "source": [
    "df.shape"
   ],
   "outputs": [
    {
     "data": {
      "text/plain": [
       "(1728, 7)"
      ]
     },
     "execution_count": 361,
     "metadata": {},
     "output_type": "execute_result"
    }
   ],
   "execution_count": 361
  },
  {
   "cell_type": "code",
   "metadata": {
    "ExecuteTime": {
     "end_time": "2025-04-11T11:29:29.385265Z",
     "start_time": "2025-04-11T11:29:29.378290Z"
    }
   },
   "source": [
    "df.head()"
   ],
   "outputs": [
    {
     "data": {
      "text/plain": [
       "       0      1  2  3      4     5      6\n",
       "0  vhigh  vhigh  2  2  small   low  unacc\n",
       "1  vhigh  vhigh  2  2  small   med  unacc\n",
       "2  vhigh  vhigh  2  2  small  high  unacc\n",
       "3  vhigh  vhigh  2  2    med   low  unacc\n",
       "4  vhigh  vhigh  2  2    med   med  unacc"
      ],
      "text/html": [
       "<div>\n",
       "<style scoped>\n",
       "    .dataframe tbody tr th:only-of-type {\n",
       "        vertical-align: middle;\n",
       "    }\n",
       "\n",
       "    .dataframe tbody tr th {\n",
       "        vertical-align: top;\n",
       "    }\n",
       "\n",
       "    .dataframe thead th {\n",
       "        text-align: right;\n",
       "    }\n",
       "</style>\n",
       "<table border=\"1\" class=\"dataframe\">\n",
       "  <thead>\n",
       "    <tr style=\"text-align: right;\">\n",
       "      <th></th>\n",
       "      <th>0</th>\n",
       "      <th>1</th>\n",
       "      <th>2</th>\n",
       "      <th>3</th>\n",
       "      <th>4</th>\n",
       "      <th>5</th>\n",
       "      <th>6</th>\n",
       "    </tr>\n",
       "  </thead>\n",
       "  <tbody>\n",
       "    <tr>\n",
       "      <th>0</th>\n",
       "      <td>vhigh</td>\n",
       "      <td>vhigh</td>\n",
       "      <td>2</td>\n",
       "      <td>2</td>\n",
       "      <td>small</td>\n",
       "      <td>low</td>\n",
       "      <td>unacc</td>\n",
       "    </tr>\n",
       "    <tr>\n",
       "      <th>1</th>\n",
       "      <td>vhigh</td>\n",
       "      <td>vhigh</td>\n",
       "      <td>2</td>\n",
       "      <td>2</td>\n",
       "      <td>small</td>\n",
       "      <td>med</td>\n",
       "      <td>unacc</td>\n",
       "    </tr>\n",
       "    <tr>\n",
       "      <th>2</th>\n",
       "      <td>vhigh</td>\n",
       "      <td>vhigh</td>\n",
       "      <td>2</td>\n",
       "      <td>2</td>\n",
       "      <td>small</td>\n",
       "      <td>high</td>\n",
       "      <td>unacc</td>\n",
       "    </tr>\n",
       "    <tr>\n",
       "      <th>3</th>\n",
       "      <td>vhigh</td>\n",
       "      <td>vhigh</td>\n",
       "      <td>2</td>\n",
       "      <td>2</td>\n",
       "      <td>med</td>\n",
       "      <td>low</td>\n",
       "      <td>unacc</td>\n",
       "    </tr>\n",
       "    <tr>\n",
       "      <th>4</th>\n",
       "      <td>vhigh</td>\n",
       "      <td>vhigh</td>\n",
       "      <td>2</td>\n",
       "      <td>2</td>\n",
       "      <td>med</td>\n",
       "      <td>med</td>\n",
       "      <td>unacc</td>\n",
       "    </tr>\n",
       "  </tbody>\n",
       "</table>\n",
       "</div>"
      ]
     },
     "execution_count": 362,
     "metadata": {},
     "output_type": "execute_result"
    }
   ],
   "execution_count": 362
  },
  {
   "cell_type": "code",
   "metadata": {
    "ExecuteTime": {
     "end_time": "2025-04-11T11:29:29.439460Z",
     "start_time": "2025-04-11T11:29:29.435926Z"
    }
   },
   "source": [
    "col_names = ['buying', 'maint', 'doors', 'persons', 'lug_boot', 'safety', 'class']\n",
    "\n",
    "df.columns = col_names\n",
    "\n",
    "col_names"
   ],
   "outputs": [
    {
     "data": {
      "text/plain": [
       "['buying', 'maint', 'doors', 'persons', 'lug_boot', 'safety', 'class']"
      ]
     },
     "execution_count": 363,
     "metadata": {},
     "output_type": "execute_result"
    }
   ],
   "execution_count": 363
  },
  {
   "cell_type": "code",
   "metadata": {
    "ExecuteTime": {
     "end_time": "2025-04-11T11:29:29.472169Z",
     "start_time": "2025-04-11T11:29:29.466510Z"
    }
   },
   "source": [
    "df.head()"
   ],
   "outputs": [
    {
     "data": {
      "text/plain": [
       "  buying  maint doors persons lug_boot safety  class\n",
       "0  vhigh  vhigh     2       2    small    low  unacc\n",
       "1  vhigh  vhigh     2       2    small    med  unacc\n",
       "2  vhigh  vhigh     2       2    small   high  unacc\n",
       "3  vhigh  vhigh     2       2      med    low  unacc\n",
       "4  vhigh  vhigh     2       2      med    med  unacc"
      ],
      "text/html": [
       "<div>\n",
       "<style scoped>\n",
       "    .dataframe tbody tr th:only-of-type {\n",
       "        vertical-align: middle;\n",
       "    }\n",
       "\n",
       "    .dataframe tbody tr th {\n",
       "        vertical-align: top;\n",
       "    }\n",
       "\n",
       "    .dataframe thead th {\n",
       "        text-align: right;\n",
       "    }\n",
       "</style>\n",
       "<table border=\"1\" class=\"dataframe\">\n",
       "  <thead>\n",
       "    <tr style=\"text-align: right;\">\n",
       "      <th></th>\n",
       "      <th>buying</th>\n",
       "      <th>maint</th>\n",
       "      <th>doors</th>\n",
       "      <th>persons</th>\n",
       "      <th>lug_boot</th>\n",
       "      <th>safety</th>\n",
       "      <th>class</th>\n",
       "    </tr>\n",
       "  </thead>\n",
       "  <tbody>\n",
       "    <tr>\n",
       "      <th>0</th>\n",
       "      <td>vhigh</td>\n",
       "      <td>vhigh</td>\n",
       "      <td>2</td>\n",
       "      <td>2</td>\n",
       "      <td>small</td>\n",
       "      <td>low</td>\n",
       "      <td>unacc</td>\n",
       "    </tr>\n",
       "    <tr>\n",
       "      <th>1</th>\n",
       "      <td>vhigh</td>\n",
       "      <td>vhigh</td>\n",
       "      <td>2</td>\n",
       "      <td>2</td>\n",
       "      <td>small</td>\n",
       "      <td>med</td>\n",
       "      <td>unacc</td>\n",
       "    </tr>\n",
       "    <tr>\n",
       "      <th>2</th>\n",
       "      <td>vhigh</td>\n",
       "      <td>vhigh</td>\n",
       "      <td>2</td>\n",
       "      <td>2</td>\n",
       "      <td>small</td>\n",
       "      <td>high</td>\n",
       "      <td>unacc</td>\n",
       "    </tr>\n",
       "    <tr>\n",
       "      <th>3</th>\n",
       "      <td>vhigh</td>\n",
       "      <td>vhigh</td>\n",
       "      <td>2</td>\n",
       "      <td>2</td>\n",
       "      <td>med</td>\n",
       "      <td>low</td>\n",
       "      <td>unacc</td>\n",
       "    </tr>\n",
       "    <tr>\n",
       "      <th>4</th>\n",
       "      <td>vhigh</td>\n",
       "      <td>vhigh</td>\n",
       "      <td>2</td>\n",
       "      <td>2</td>\n",
       "      <td>med</td>\n",
       "      <td>med</td>\n",
       "      <td>unacc</td>\n",
       "    </tr>\n",
       "  </tbody>\n",
       "</table>\n",
       "</div>"
      ]
     },
     "execution_count": 364,
     "metadata": {},
     "output_type": "execute_result"
    }
   ],
   "execution_count": 364
  },
  {
   "cell_type": "code",
   "metadata": {
    "ExecuteTime": {
     "end_time": "2025-04-11T11:29:29.531382Z",
     "start_time": "2025-04-11T11:29:29.525987Z"
    }
   },
   "source": [
    "df.info()"
   ],
   "outputs": [
    {
     "name": "stdout",
     "output_type": "stream",
     "text": [
      "<class 'pandas.core.frame.DataFrame'>\n",
      "RangeIndex: 1728 entries, 0 to 1727\n",
      "Data columns (total 7 columns):\n",
      " #   Column    Non-Null Count  Dtype \n",
      "---  ------    --------------  ----- \n",
      " 0   buying    1728 non-null   object\n",
      " 1   maint     1728 non-null   object\n",
      " 2   doors     1728 non-null   object\n",
      " 3   persons   1728 non-null   object\n",
      " 4   lug_boot  1728 non-null   object\n",
      " 5   safety    1728 non-null   object\n",
      " 6   class     1728 non-null   object\n",
      "dtypes: object(7)\n",
      "memory usage: 94.6+ KB\n"
     ]
    }
   ],
   "execution_count": 365
  },
  {
   "cell_type": "code",
   "metadata": {
    "ExecuteTime": {
     "end_time": "2025-04-11T11:29:29.569783Z",
     "start_time": "2025-04-11T11:29:29.563735Z"
    }
   },
   "source": [
    "col_names = ['buying', 'maint', 'doors', 'persons', 'lug_boot', 'safety', 'class']\n",
    "\n",
    "for col in col_names:\n",
    "    \n",
    "    print(df[col].value_counts())   \n"
   ],
   "outputs": [
    {
     "name": "stdout",
     "output_type": "stream",
     "text": [
      "buying\n",
      "vhigh    432\n",
      "high     432\n",
      "med      432\n",
      "low      432\n",
      "Name: count, dtype: int64\n",
      "maint\n",
      "vhigh    432\n",
      "high     432\n",
      "med      432\n",
      "low      432\n",
      "Name: count, dtype: int64\n",
      "doors\n",
      "2        432\n",
      "3        432\n",
      "4        432\n",
      "5more    432\n",
      "Name: count, dtype: int64\n",
      "persons\n",
      "2       576\n",
      "4       576\n",
      "more    576\n",
      "Name: count, dtype: int64\n",
      "lug_boot\n",
      "small    576\n",
      "med      576\n",
      "big      576\n",
      "Name: count, dtype: int64\n",
      "safety\n",
      "low     576\n",
      "med     576\n",
      "high    576\n",
      "Name: count, dtype: int64\n",
      "class\n",
      "unacc    1210\n",
      "acc       384\n",
      "good       69\n",
      "vgood      65\n",
      "Name: count, dtype: int64\n"
     ]
    }
   ],
   "execution_count": 366
  },
  {
   "cell_type": "code",
   "metadata": {
    "ExecuteTime": {
     "end_time": "2025-04-11T11:29:29.625310Z",
     "start_time": "2025-04-11T11:29:29.620327Z"
    }
   },
   "source": [
    "df['class'].value_counts()"
   ],
   "outputs": [
    {
     "data": {
      "text/plain": [
       "class\n",
       "unacc    1210\n",
       "acc       384\n",
       "good       69\n",
       "vgood      65\n",
       "Name: count, dtype: int64"
      ]
     },
     "execution_count": 367,
     "metadata": {},
     "output_type": "execute_result"
    }
   ],
   "execution_count": 367
  },
  {
   "cell_type": "code",
   "metadata": {
    "ExecuteTime": {
     "end_time": "2025-04-11T11:29:29.679650Z",
     "start_time": "2025-04-11T11:29:29.675060Z"
    }
   },
   "source": [
    "df.isnull().sum()"
   ],
   "outputs": [
    {
     "data": {
      "text/plain": [
       "buying      0\n",
       "maint       0\n",
       "doors       0\n",
       "persons     0\n",
       "lug_boot    0\n",
       "safety      0\n",
       "class       0\n",
       "dtype: int64"
      ]
     },
     "execution_count": 368,
     "metadata": {},
     "output_type": "execute_result"
    }
   ],
   "execution_count": 368
  },
  {
   "cell_type": "code",
   "metadata": {
    "ExecuteTime": {
     "end_time": "2025-04-11T11:29:29.734963Z",
     "start_time": "2025-04-11T11:29:29.730409Z"
    }
   },
   "source": [
    "X = df.drop(['class'], axis=1)\n",
    "\n",
    "y = df['class']"
   ],
   "outputs": [],
   "execution_count": 369
  },
  {
   "cell_type": "code",
   "metadata": {
    "ExecuteTime": {
     "end_time": "2025-04-11T11:29:29.776494Z",
     "start_time": "2025-04-11T11:29:29.772322Z"
    }
   },
   "source": [
    "from sklearn.model_selection import train_test_split\n",
    "\n",
    "X_train, X_test, y_train, y_test = train_test_split(X, y, test_size = 0.33, random_state = 42)"
   ],
   "outputs": [],
   "execution_count": 370
  },
  {
   "cell_type": "code",
   "metadata": {
    "ExecuteTime": {
     "end_time": "2025-04-11T11:29:29.835338Z",
     "start_time": "2025-04-11T11:29:29.831351Z"
    }
   },
   "source": "X_train.shape, X_test.shape",
   "outputs": [
    {
     "data": {
      "text/plain": [
       "((1157, 6), (571, 6))"
      ]
     },
     "execution_count": 371,
     "metadata": {},
     "output_type": "execute_result"
    }
   ],
   "execution_count": 371
  },
  {
   "cell_type": "code",
   "metadata": {
    "ExecuteTime": {
     "end_time": "2025-04-11T11:29:29.882829Z",
     "start_time": "2025-04-11T11:29:29.878617Z"
    }
   },
   "source": "X_train.dtypes",
   "outputs": [
    {
     "data": {
      "text/plain": [
       "buying      object\n",
       "maint       object\n",
       "doors       object\n",
       "persons     object\n",
       "lug_boot    object\n",
       "safety      object\n",
       "dtype: object"
      ]
     },
     "execution_count": 372,
     "metadata": {},
     "output_type": "execute_result"
    }
   ],
   "execution_count": 372
  },
  {
   "cell_type": "code",
   "metadata": {
    "ExecuteTime": {
     "end_time": "2025-04-11T11:29:29.916725Z",
     "start_time": "2025-04-11T11:29:29.910308Z"
    }
   },
   "source": "X_train.head()",
   "outputs": [
    {
     "data": {
      "text/plain": [
       "     buying  maint  doors persons lug_boot safety\n",
       "48    vhigh  vhigh      3    more      med    low\n",
       "468    high  vhigh      3       4    small    low\n",
       "155   vhigh   high      3    more    small   high\n",
       "1721    low    low  5more    more    small   high\n",
       "1208    med    low      2    more    small   high"
      ],
      "text/html": [
       "<div>\n",
       "<style scoped>\n",
       "    .dataframe tbody tr th:only-of-type {\n",
       "        vertical-align: middle;\n",
       "    }\n",
       "\n",
       "    .dataframe tbody tr th {\n",
       "        vertical-align: top;\n",
       "    }\n",
       "\n",
       "    .dataframe thead th {\n",
       "        text-align: right;\n",
       "    }\n",
       "</style>\n",
       "<table border=\"1\" class=\"dataframe\">\n",
       "  <thead>\n",
       "    <tr style=\"text-align: right;\">\n",
       "      <th></th>\n",
       "      <th>buying</th>\n",
       "      <th>maint</th>\n",
       "      <th>doors</th>\n",
       "      <th>persons</th>\n",
       "      <th>lug_boot</th>\n",
       "      <th>safety</th>\n",
       "    </tr>\n",
       "  </thead>\n",
       "  <tbody>\n",
       "    <tr>\n",
       "      <th>48</th>\n",
       "      <td>vhigh</td>\n",
       "      <td>vhigh</td>\n",
       "      <td>3</td>\n",
       "      <td>more</td>\n",
       "      <td>med</td>\n",
       "      <td>low</td>\n",
       "    </tr>\n",
       "    <tr>\n",
       "      <th>468</th>\n",
       "      <td>high</td>\n",
       "      <td>vhigh</td>\n",
       "      <td>3</td>\n",
       "      <td>4</td>\n",
       "      <td>small</td>\n",
       "      <td>low</td>\n",
       "    </tr>\n",
       "    <tr>\n",
       "      <th>155</th>\n",
       "      <td>vhigh</td>\n",
       "      <td>high</td>\n",
       "      <td>3</td>\n",
       "      <td>more</td>\n",
       "      <td>small</td>\n",
       "      <td>high</td>\n",
       "    </tr>\n",
       "    <tr>\n",
       "      <th>1721</th>\n",
       "      <td>low</td>\n",
       "      <td>low</td>\n",
       "      <td>5more</td>\n",
       "      <td>more</td>\n",
       "      <td>small</td>\n",
       "      <td>high</td>\n",
       "    </tr>\n",
       "    <tr>\n",
       "      <th>1208</th>\n",
       "      <td>med</td>\n",
       "      <td>low</td>\n",
       "      <td>2</td>\n",
       "      <td>more</td>\n",
       "      <td>small</td>\n",
       "      <td>high</td>\n",
       "    </tr>\n",
       "  </tbody>\n",
       "</table>\n",
       "</div>"
      ]
     },
     "execution_count": 373,
     "metadata": {},
     "output_type": "execute_result"
    }
   ],
   "execution_count": 373
  },
  {
   "cell_type": "code",
   "metadata": {
    "ExecuteTime": {
     "end_time": "2025-04-11T11:29:29.981555Z",
     "start_time": "2025-04-11T11:29:29.965565Z"
    }
   },
   "source": [
    "import category_encoders as ce\n",
    "encoder = ce.OrdinalEncoder(cols=['buying', 'maint', 'doors', 'persons', 'lug_boot', 'safety'])\n",
    "\n",
    "X_train = encoder.fit_transform(X_train)\n",
    "\n",
    "X_test = encoder.transform(X_test)"
   ],
   "outputs": [],
   "execution_count": 374
  },
  {
   "metadata": {
    "ExecuteTime": {
     "end_time": "2025-04-11T11:29:30.019958Z",
     "start_time": "2025-04-11T11:29:30.012727Z"
    }
   },
   "cell_type": "code",
   "source": "X_train.head()",
   "outputs": [
    {
     "data": {
      "text/plain": [
       "      buying  maint  doors  persons  lug_boot  safety\n",
       "48         1      1      1        1         1       1\n",
       "468        2      1      1        2         2       1\n",
       "155        1      2      1        1         2       2\n",
       "1721       3      3      2        1         2       2\n",
       "1208       4      3      3        1         2       2"
      ],
      "text/html": [
       "<div>\n",
       "<style scoped>\n",
       "    .dataframe tbody tr th:only-of-type {\n",
       "        vertical-align: middle;\n",
       "    }\n",
       "\n",
       "    .dataframe tbody tr th {\n",
       "        vertical-align: top;\n",
       "    }\n",
       "\n",
       "    .dataframe thead th {\n",
       "        text-align: right;\n",
       "    }\n",
       "</style>\n",
       "<table border=\"1\" class=\"dataframe\">\n",
       "  <thead>\n",
       "    <tr style=\"text-align: right;\">\n",
       "      <th></th>\n",
       "      <th>buying</th>\n",
       "      <th>maint</th>\n",
       "      <th>doors</th>\n",
       "      <th>persons</th>\n",
       "      <th>lug_boot</th>\n",
       "      <th>safety</th>\n",
       "    </tr>\n",
       "  </thead>\n",
       "  <tbody>\n",
       "    <tr>\n",
       "      <th>48</th>\n",
       "      <td>1</td>\n",
       "      <td>1</td>\n",
       "      <td>1</td>\n",
       "      <td>1</td>\n",
       "      <td>1</td>\n",
       "      <td>1</td>\n",
       "    </tr>\n",
       "    <tr>\n",
       "      <th>468</th>\n",
       "      <td>2</td>\n",
       "      <td>1</td>\n",
       "      <td>1</td>\n",
       "      <td>2</td>\n",
       "      <td>2</td>\n",
       "      <td>1</td>\n",
       "    </tr>\n",
       "    <tr>\n",
       "      <th>155</th>\n",
       "      <td>1</td>\n",
       "      <td>2</td>\n",
       "      <td>1</td>\n",
       "      <td>1</td>\n",
       "      <td>2</td>\n",
       "      <td>2</td>\n",
       "    </tr>\n",
       "    <tr>\n",
       "      <th>1721</th>\n",
       "      <td>3</td>\n",
       "      <td>3</td>\n",
       "      <td>2</td>\n",
       "      <td>1</td>\n",
       "      <td>2</td>\n",
       "      <td>2</td>\n",
       "    </tr>\n",
       "    <tr>\n",
       "      <th>1208</th>\n",
       "      <td>4</td>\n",
       "      <td>3</td>\n",
       "      <td>3</td>\n",
       "      <td>1</td>\n",
       "      <td>2</td>\n",
       "      <td>2</td>\n",
       "    </tr>\n",
       "  </tbody>\n",
       "</table>\n",
       "</div>"
      ]
     },
     "execution_count": 375,
     "metadata": {},
     "output_type": "execute_result"
    }
   ],
   "execution_count": 375
  },
  {
   "cell_type": "code",
   "metadata": {
    "ExecuteTime": {
     "end_time": "2025-04-11T11:29:30.082880Z",
     "start_time": "2025-04-11T11:29:30.078026Z"
    }
   },
   "source": "X_test.head()",
   "outputs": [
    {
     "data": {
      "text/plain": [
       "      buying  maint  doors  persons  lug_boot  safety\n",
       "599        2      2      4        3         1       2\n",
       "1201       4      3      3        2         1       3\n",
       "628        2      2      2        3         3       3\n",
       "1498       3      2      2        2         1       3\n",
       "1263       4      3      4        1         1       1"
      ],
      "text/html": [
       "<div>\n",
       "<style scoped>\n",
       "    .dataframe tbody tr th:only-of-type {\n",
       "        vertical-align: middle;\n",
       "    }\n",
       "\n",
       "    .dataframe tbody tr th {\n",
       "        vertical-align: top;\n",
       "    }\n",
       "\n",
       "    .dataframe thead th {\n",
       "        text-align: right;\n",
       "    }\n",
       "</style>\n",
       "<table border=\"1\" class=\"dataframe\">\n",
       "  <thead>\n",
       "    <tr style=\"text-align: right;\">\n",
       "      <th></th>\n",
       "      <th>buying</th>\n",
       "      <th>maint</th>\n",
       "      <th>doors</th>\n",
       "      <th>persons</th>\n",
       "      <th>lug_boot</th>\n",
       "      <th>safety</th>\n",
       "    </tr>\n",
       "  </thead>\n",
       "  <tbody>\n",
       "    <tr>\n",
       "      <th>599</th>\n",
       "      <td>2</td>\n",
       "      <td>2</td>\n",
       "      <td>4</td>\n",
       "      <td>3</td>\n",
       "      <td>1</td>\n",
       "      <td>2</td>\n",
       "    </tr>\n",
       "    <tr>\n",
       "      <th>1201</th>\n",
       "      <td>4</td>\n",
       "      <td>3</td>\n",
       "      <td>3</td>\n",
       "      <td>2</td>\n",
       "      <td>1</td>\n",
       "      <td>3</td>\n",
       "    </tr>\n",
       "    <tr>\n",
       "      <th>628</th>\n",
       "      <td>2</td>\n",
       "      <td>2</td>\n",
       "      <td>2</td>\n",
       "      <td>3</td>\n",
       "      <td>3</td>\n",
       "      <td>3</td>\n",
       "    </tr>\n",
       "    <tr>\n",
       "      <th>1498</th>\n",
       "      <td>3</td>\n",
       "      <td>2</td>\n",
       "      <td>2</td>\n",
       "      <td>2</td>\n",
       "      <td>1</td>\n",
       "      <td>3</td>\n",
       "    </tr>\n",
       "    <tr>\n",
       "      <th>1263</th>\n",
       "      <td>4</td>\n",
       "      <td>3</td>\n",
       "      <td>4</td>\n",
       "      <td>1</td>\n",
       "      <td>1</td>\n",
       "      <td>1</td>\n",
       "    </tr>\n",
       "  </tbody>\n",
       "</table>\n",
       "</div>"
      ]
     },
     "execution_count": 376,
     "metadata": {},
     "output_type": "execute_result"
    }
   ],
   "execution_count": 376
  },
  {
   "cell_type": "code",
   "metadata": {
    "ExecuteTime": {
     "end_time": "2025-04-11T11:29:31.351029Z",
     "start_time": "2025-04-11T11:29:30.140158Z"
    }
   },
   "source": [
    "#KI 添加更全面的EDA\n",
    "df['class'].value_counts()\n",
    "import matplotlib.pyplot as plt\n",
    "import seaborn as sns\n",
    "\n",
    "# 1. 类别分布可视化\n",
    "plt.figure(figsize=(10,6))\n",
    "sns.countplot(data=df, x='class')\n",
    "plt.title('Class Distribution')\n",
    "plt.show()\n",
    "\n",
    "# 2. 特征分布分析\n",
    "plt.figure(figsize=(15,10))\n",
    "for i, col in enumerate(col_names[:-1]):  # 排除目标变量\n",
    "    plt.subplot(2, 3, i+1)\n",
    "    sns.countplot(data=df, x=col)\n",
    "    plt.title(f'Distribution of {col}')\n",
    "    plt.xticks(rotation=45)\n",
    "plt.tight_layout()\n",
    "plt.show()\n",
    "\n",
    "# 3. 特征与目标变量的关系\n",
    "plt.figure(figsize=(15,15))\n",
    "for i, col in enumerate(col_names[:-1]):\n",
    "    plt.subplot(3, 2, i+1)\n",
    "    sns.countplot(data=df, x=col, hue='class')\n",
    "    plt.title(f'{col} vs Class')\n",
    "    plt.xticks(rotation=45)\n",
    "plt.tight_layout()\n",
    "plt.show()"
   ],
   "outputs": [
    {
     "data": {
      "text/plain": [
       "<Figure size 1000x600 with 1 Axes>"
      ],
      "image/png": "[encoded data removed]"
     },
     "metadata": {},
     "output_type": "display_data"
    },
    {
     "data": {
      "text/plain": [
       "<Figure size 1500x1000 with 6 Axes>"
      ],
      "image/png": "[encoded data removed]"
     },
     "metadata": {},
     "output_type": "display_data"
    },
    {
     "data": {
      "text/plain": [
       "<Figure size 1500x1500 with 6 Axes>"
      ],
      "image/png": "[encoded data removed]"
     },
     "metadata": {},
     "output_type": "display_data"
    }
   ],
   "execution_count": 377
  },
  {
   "metadata": {
    "ExecuteTime": {
     "end_time": "2025-04-11T11:29:31.384893Z",
     "start_time": "2025-04-11T11:29:31.371936Z"
    }
   },
   "cell_type": "code",
   "source": [
    "#Fishhead 处理类别不平衡\n",
    "from imblearn.over_sampling import SMOTE\n",
    "\n",
    "# 应用SMOTE过采样\n",
    "smote = SMOTE(random_state=42)\n",
    "X_train_smote, y_train_smote = smote.fit_resample(X_train, y_train)\n",
    "\n",
    "# 打印类别分布情况\n",
    "print(\"原始训练集类别分布:\", pd.Series(y_train).value_counts())\n",
    "print(\"SMOTE处理后类别分布:\", pd.Series(y_train_smote).value_counts())"
   ],
   "outputs": [
    {
     "name": "stdout",
     "output_type": "stream",
     "text": [
      "原始训练集类别分布: class\n",
      "unacc    813\n",
      "acc      255\n",
      "good      49\n",
      "vgood     40\n",
      "Name: count, dtype: int64\n",
      "SMOTE处理后类别分布: class\n",
      "unacc    813\n",
      "good     813\n",
      "acc      813\n",
      "vgood    813\n",
      "Name: count, dtype: int64\n"
     ]
    },
    {
     "name": "stderr",
     "output_type": "stream",
     "text": [
      "C:\\Users\\admin\\anaconda3\\Lib\\site-packages\\sklearn\\base.py:474: FutureWarning: `BaseEstimator._validate_data` is deprecated in 1.6 and will be removed in 1.7. Use `sklearn.utils.validation.validate_data` instead. This function becomes public and is part of the scikit-learn developer API.\n",
      "  warnings.warn(\n"
     ]
    }
   ],
   "execution_count": 378
  },
  {
   "cell_type": "code",
   "metadata": {
    "ExecuteTime": {
     "end_time": "2025-04-11T11:29:31.513454Z",
     "start_time": "2025-04-11T11:29:31.403830Z"
    }
   },
   "source": [
    "from sklearn.ensemble import RandomForestClassifier\n",
    "\n",
    "rfc = RandomForestClassifier(random_state=0)\n",
    "\n",
    "rfc.fit(X_train, y_train)\n",
    "\n",
    "y_pred_RF_10_origin_holdout = rfc.predict(X_test)\n",
    "\n",
    "from sklearn.metrics import accuracy_score\n",
    "\n",
    "print('Original Data Trained | Model accuracy score with 10 decision-trees: {0:0.4f}'. format(accuracy_score(y_test, y_pred_RF_10_origin_holdout)))"
   ],
   "outputs": [
    {
     "name": "stdout",
     "output_type": "stream",
     "text": [
      "Original Data Trained | Model accuracy score with 10 decision-trees: 0.9457\n"
     ]
    }
   ],
   "execution_count": 379
  },
  {
   "cell_type": "code",
   "metadata": {
    "ExecuteTime": {
     "end_time": "2025-04-11T11:29:31.648307Z",
     "start_time": "2025-04-11T11:29:31.542598Z"
    }
   },
   "source": [
    "rfc_100 = RandomForestClassifier(n_estimators=100, random_state=0)\n",
    "\n",
    "rfc_100.fit(X_train, y_train)\n",
    "\n",
    "y_pred_RF_100_origin_holdout = rfc_100.predict(X_test)\n",
    "\n",
    "print('Original Data Trained | Model accuracy score with 100 decision-trees : {0:0.4f}'. format(accuracy_score(y_test, y_pred_RF_100_origin_holdout)))"
   ],
   "outputs": [
    {
     "name": "stdout",
     "output_type": "stream",
     "text": [
      "Original Data Trained | Model accuracy score with 100 decision-trees : 0.9457\n"
     ]
    }
   ],
   "execution_count": 380
  },
  {
   "metadata": {
    "ExecuteTime": {
     "end_time": "2025-04-11T11:29:31.887078Z",
     "start_time": "2025-04-11T11:29:31.675994Z"
    }
   },
   "cell_type": "code",
   "source": [
    "#RS 尝试使用更多的决策树\n",
    "rfc_200 = RandomForestClassifier(n_estimators=200, random_state=0)\n",
    "\n",
    "rfc_200.fit(X_train, y_train)\n",
    "\n",
    "y_pred_RF_200_origin_holdout = rfc_200.predict(X_test)\n",
    "\n",
    "print('Original Data Trained | Model accuracy score with 200 decision-trees : {0:0.4f}'. format(accuracy_score(y_test, y_pred_RF_200_origin_holdout)))"
   ],
   "outputs": [
    {
     "name": "stdout",
     "output_type": "stream",
     "text": [
      "Original Data Trained | Model accuracy score with 200 decision-trees : 0.9405\n"
     ]
    }
   ],
   "execution_count": 381
  },
  {
   "metadata": {
    "ExecuteTime": {
     "end_time": "2025-04-11T11:29:32.054916Z",
     "start_time": "2025-04-11T11:29:31.914318Z"
    }
   },
   "cell_type": "code",
   "source": [
    "#RS 用SMOTE处理后的数据集训练模型\n",
    "rfc = RandomForestClassifier(random_state=0)\n",
    "\n",
    "rfc.fit(X_train_smote, y_train_smote)\n",
    "\n",
    "y_pred_RF_10_SMOTE_holdout = rfc.predict(X_test)\n",
    "\n",
    "print('SMOTE Data Trained | Model accuracy score with 100 decision-trees : {0:0.4f}'. format(accuracy_score(y_test, y_pred_RF_10_SMOTE_holdout)))"
   ],
   "outputs": [
    {
     "name": "stdout",
     "output_type": "stream",
     "text": [
      "SMOTE Data Trained | Model accuracy score with 100 decision-trees : 0.9405\n"
     ]
    }
   ],
   "execution_count": 382
  },
  {
   "metadata": {
    "ExecuteTime": {
     "end_time": "2025-04-11T11:29:34.382805Z",
     "start_time": "2025-04-11T11:29:32.086510Z"
    }
   },
   "cell_type": "code",
   "source": [
    "#RS 进行k折交叉验证\n",
    "from sklearn.model_selection import cross_val_score\n",
    "\n",
    "#原始数据训练\n",
    "# 创建随机森林分类器\n",
    "rfc = RandomForestClassifier(random_state=0)\n",
    "\n",
    "# 进行k折交叉验证\n",
    "k = 10\n",
    "cv_scores_RF_10_origin_kfold = cross_val_score(rfc, X_train, y_train, cv=k, scoring='accuracy')\n",
    "y_pred_RF_10_origin_kfold = cv_scores_RF_10_origin_kfold.mean()\n",
    "\n",
    "# 输出交叉验证结果\n",
    "print(\"在原始数据集上进行k折交叉验证结果:\")\n",
    "print(f\"{k}-折交叉验证准确率分数:\", cv_scores_RF_10_origin_kfold)\n",
    "print(f\"平均交叉验证准确率: {cv_scores_RF_10_origin_kfold.mean():0.4f}\")\n",
    "print(f\"标准差: {cv_scores_RF_10_origin_kfold.std():0.4f}\")\n",
    "\n",
    "#SMOTE数据训练\n",
    "# 创建随机森林分类器\n",
    "rfc = RandomForestClassifier(random_state=0)\n",
    "\n",
    "# 进行k折交叉验证\n",
    "k = 10\n",
    "cv_scores_RF_10_SMOTE_kfold = cross_val_score(rfc, X_train_smote, y_train_smote, cv=k, scoring='accuracy')\n",
    "y_pred_RF_10_SMOTE_kfold = cv_scores_RF_10_SMOTE_kfold.mean()\n",
    "\n",
    "# 输出交叉验证结果\n",
    "print(\"\")\n",
    "print(\"在SMOTE数据集上进行k折交叉验证结果:\")\n",
    "print(f\"{k}-折交叉验证准确率分数:\", cv_scores_RF_10_SMOTE_kfold)\n",
    "print(f\"平均交叉验证准确率: {cv_scores_RF_10_SMOTE_kfold.mean():0.4f}\")\n",
    "print(f\"标准差: {cv_scores_RF_10_SMOTE_kfold.std():0.4f}\")"
   ],
   "outputs": [
    {
     "name": "stdout",
     "output_type": "stream",
     "text": [
      "在原始数据集上进行k折交叉验证结果:\n",
      "10-折交叉验证准确率分数: [0.96551724 0.95689655 0.95689655 0.95689655 0.94827586 0.98275862\n",
      " 0.94827586 0.90434783 0.96521739 0.93913043]\n",
      "平均交叉验证准确率: 0.9524\n",
      "标准差: 0.0196\n",
      "\n",
      "在SMOTE数据集上进行k折交叉验证结果:\n",
      "10-折交叉验证准确率分数: [0.97239264 0.97852761 0.98153846 0.97538462 0.95692308 0.97230769\n",
      " 0.96923077 0.97230769 0.95384615 0.95384615]\n",
      "平均交叉验证准确率: 0.9686\n",
      "标准差: 0.0096\n"
     ]
    }
   ],
   "execution_count": 383
  },
  {
   "cell_type": "code",
   "metadata": {
    "ExecuteTime": {
     "end_time": "2025-04-11T11:29:34.511071Z",
     "start_time": "2025-04-11T11:29:34.411673Z"
    }
   },
   "source": [
    "#RS 这一部分未修改，继续使用原始数据进行特征重要性分析\n",
    "clf = RandomForestClassifier(n_estimators=100, random_state=0)\n",
    "\n",
    "clf.fit(X_train, y_train)\n"
   ],
   "outputs": [
    {
     "data": {
      "text/plain": [
       "RandomForestClassifier(random_state=0)"
      ],
      "text/html": [
       "<style>#sk-container-id-9 {\n",
       "  /* Definition of color scheme common for light and dark mode */\n",
       "  --sklearn-color-text: #000;\n",
       "  --sklearn-color-text-muted: #666;\n",
       "  --sklearn-color-line: gray;\n",
       "  /* Definition of color scheme for unfitted estimators */\n",
       "  --sklearn-color-unfitted-level-0: #fff5e6;\n",
       "  --sklearn-color-unfitted-level-1: #f6e4d2;\n",
       "  --sklearn-color-unfitted-level-2: #ffe0b3;\n",
       "  --sklearn-color-unfitted-level-3: chocolate;\n",
       "  /* Definition of color scheme for fitted estimators */\n",
       "  --sklearn-color-fitted-level-0: #f0f8ff;\n",
       "  --sklearn-color-fitted-level-1: #d4ebff;\n",
       "  --sklearn-color-fitted-level-2: #b3dbfd;\n",
       "  --sklearn-color-fitted-level-3: cornflowerblue;\n",
       "\n",
       "  /* Specific color for light theme */\n",
       "  --sklearn-color-text-on-default-background: var(--sg-text-color, var(--theme-code-foreground, var(--jp-content-font-color1, black)));\n",
       "  --sklearn-color-background: var(--sg-background-color, var(--theme-background, var(--jp-layout-color0, white)));\n",
       "  --sklearn-color-border-box: var(--sg-text-color, var(--theme-code-foreground, var(--jp-content-font-color1, black)));\n",
       "  --sklearn-color-icon: #696969;\n",
       "\n",
       "  @media (prefers-color-scheme: dark) {\n",
       "    /* Redefinition of color scheme for dark theme */\n",
       "    --sklearn-color-text-on-default-background: var(--sg-text-color, var(--theme-code-foreground, var(--jp-content-font-color1, white)));\n",
       "    --sklearn-color-background: var(--sg-background-color, var(--theme-background, var(--jp-layout-color0, #111)));\n",
       "    --sklearn-color-border-box: var(--sg-text-color, var(--theme-code-foreground, var(--jp-content-font-color1, white)));\n",
       "    --sklearn-color-icon: #878787;\n",
       "  }\n",
       "}\n",
       "\n",
       "#sk-container-id-9 {\n",
       "  color: var(--sklearn-color-text);\n",
       "}\n",
       "\n",
       "#sk-container-id-9 pre {\n",
       "  padding: 0;\n",
       "}\n",
       "\n",
       "#sk-container-id-9 input.sk-hidden--visually {\n",
       "  border: 0;\n",
       "  clip: rect(1px 1px 1px 1px);\n",
       "  clip: rect(1px, 1px, 1px, 1px);\n",
       "  height: 1px;\n",
       "  margin: -1px;\n",
       "  overflow: hidden;\n",
       "  padding: 0;\n",
       "  position: absolute;\n",
       "  width: 1px;\n",
       "}\n",
       "\n",
       "#sk-container-id-9 div.sk-dashed-wrapped {\n",
       "  border: 1px dashed var(--sklearn-color-line);\n",
       "  margin: 0 0.4em 0.5em 0.4em;\n",
       "  box-sizing: border-box;\n",
       "  padding-bottom: 0.4em;\n",
       "  background-color: var(--sklearn-color-background);\n",
       "}\n",
       "\n",
       "#sk-container-id-9 div.sk-container {\n",
       "  /* jupyter's `normalize.less` sets `[hidden] { display: none; }`\n",
       "     but bootstrap.min.css set `[hidden] { display: none !important; }`\n",
       "     so we also need the `!important` here to be able to override the\n",
       "     default hidden behavior on the sphinx rendered scikit-learn.org.\n",
       "     See: https://github.com/scikit-learn/scikit-learn/issues/21755 */\n",
       "  display: inline-block !important;\n",
       "  position: relative;\n",
       "}\n",
       "\n",
       "#sk-container-id-9 div.sk-text-repr-fallback {\n",
       "  display: none;\n",
       "}\n",
       "\n",
       "div.sk-parallel-item,\n",
       "div.sk-serial,\n",
       "div.sk-item {\n",
       "  /* draw centered vertical line to link estimators */\n",
       "  background-image: linear-gradient(var(--sklearn-color-text-on-default-background), var(--sklearn-color-text-on-default-background));\n",
       "  background-size: 2px 100%;\n",
       "  background-repeat: no-repeat;\n",
       "  background-position: center center;\n",
       "}\n",
       "\n",
       "/* Parallel-specific style estimator block */\n",
       "\n",
       "#sk-container-id-9 div.sk-parallel-item::after {\n",
       "  content: \"\";\n",
       "  width: 100%;\n",
       "  border-bottom: 2px solid var(--sklearn-color-text-on-default-background);\n",
       "  flex-grow: 1;\n",
       "}\n",
       "\n",
       "#sk-container-id-9 div.sk-parallel {\n",
       "  display: flex;\n",
       "  align-items: stretch;\n",
       "  justify-content: center;\n",
       "  background-color: var(--sklearn-color-background);\n",
       "  position: relative;\n",
       "}\n",
       "\n",
       "#sk-container-id-9 div.sk-parallel-item {\n",
       "  display: flex;\n",
       "  flex-direction: column;\n",
       "}\n",
       "\n",
       "#sk-container-id-9 div.sk-parallel-item:first-child::after {\n",
       "  align-self: flex-end;\n",
       "  width: 50%;\n",
       "}\n",
       "\n",
       "#sk-container-id-9 div.sk-parallel-item:last-child::after {\n",
       "  align-self: flex-start;\n",
       "  width: 50%;\n",
       "}\n",
       "\n",
       "#sk-container-id-9 div.sk-parallel-item:only-child::after {\n",
       "  width: 0;\n",
       "}\n",
       "\n",
       "/* Serial-specific style estimator block */\n",
       "\n",
       "#sk-container-id-9 div.sk-serial {\n",
       "  display: flex;\n",
       "  flex-direction: column;\n",
       "  align-items: center;\n",
       "  background-color: var(--sklearn-color-background);\n",
       "  padding-right: 1em;\n",
       "  padding-left: 1em;\n",
       "}\n",
       "\n",
       "\n",
       "/* Toggleable style: style used for estimator/Pipeline/ColumnTransformer box that is\n",
       "clickable and can be expanded/collapsed.\n",
       "- Pipeline and ColumnTransformer use this feature and define the default style\n",
       "- Estimators will overwrite some part of the style using the `sk-estimator` class\n",
       "*/\n",
       "\n",
       "/* Pipeline and ColumnTransformer style (default) */\n",
       "\n",
       "#sk-container-id-9 div.sk-toggleable {\n",
       "  /* Default theme specific background. It is overwritten whether we have a\n",
       "  specific estimator or a Pipeline/ColumnTransformer */\n",
       "  background-color: var(--sklearn-color-background);\n",
       "}\n",
       "\n",
       "/* Toggleable label */\n",
       "#sk-container-id-9 label.sk-toggleable__label {\n",
       "  cursor: pointer;\n",
       "  display: flex;\n",
       "  width: 100%;\n",
       "  margin-bottom: 0;\n",
       "  padding: 0.5em;\n",
       "  box-sizing: border-box;\n",
       "  text-align: center;\n",
       "  align-items: start;\n",
       "  justify-content: space-between;\n",
       "  gap: 0.5em;\n",
       "}\n",
       "\n",
       "#sk-container-id-9 label.sk-toggleable__label .caption {\n",
       "  font-size: 0.6rem;\n",
       "  font-weight: lighter;\n",
       "  color: var(--sklearn-color-text-muted);\n",
       "}\n",
       "\n",
       "#sk-container-id-9 label.sk-toggleable__label-arrow:before {\n",
       "  /* Arrow on the left of the label */\n",
       "  content: \"▸\";\n",
       "  float: left;\n",
       "  margin-right: 0.25em;\n",
       "  color: var(--sklearn-color-icon);\n",
       "}\n",
       "\n",
       "#sk-container-id-9 label.sk-toggleable__label-arrow:hover:before {\n",
       "  color: var(--sklearn-color-text);\n",
       "}\n",
       "\n",
       "/* Toggleable content - dropdown */\n",
       "\n",
       "#sk-container-id-9 div.sk-toggleable__content {\n",
       "  max-height: 0;\n",
       "  max-width: 0;\n",
       "  overflow: hidden;\n",
       "  text-align: left;\n",
       "  /* unfitted */\n",
       "  background-color: var(--sklearn-color-unfitted-level-0);\n",
       "}\n",
       "\n",
       "#sk-container-id-9 div.sk-toggleable__content.fitted {\n",
       "  /* fitted */\n",
       "  background-color: var(--sklearn-color-fitted-level-0);\n",
       "}\n",
       "\n",
       "#sk-container-id-9 div.sk-toggleable__content pre {\n",
       "  margin: 0.2em;\n",
       "  border-radius: 0.25em;\n",
       "  color: var(--sklearn-color-text);\n",
       "  /* unfitted */\n",
       "  background-color: var(--sklearn-color-unfitted-level-0);\n",
       "}\n",
       "\n",
       "#sk-container-id-9 div.sk-toggleable__content.fitted pre {\n",
       "  /* unfitted */\n",
       "  background-color: var(--sklearn-color-fitted-level-0);\n",
       "}\n",
       "\n",
       "#sk-container-id-9 input.sk-toggleable__control:checked~div.sk-toggleable__content {\n",
       "  /* Expand drop-down */\n",
       "  max-height: 200px;\n",
       "  max-width: 100%;\n",
       "  overflow: auto;\n",
       "}\n",
       "\n",
       "#sk-container-id-9 input.sk-toggleable__control:checked~label.sk-toggleable__label-arrow:before {\n",
       "  content: \"▾\";\n",
       "}\n",
       "\n",
       "/* Pipeline/ColumnTransformer-specific style */\n",
       "\n",
       "#sk-container-id-9 div.sk-label input.sk-toggleable__control:checked~label.sk-toggleable__label {\n",
       "  color: var(--sklearn-color-text);\n",
       "  background-color: var(--sklearn-color-unfitted-level-2);\n",
       "}\n",
       "\n",
       "#sk-container-id-9 div.sk-label.fitted input.sk-toggleable__control:checked~label.sk-toggleable__label {\n",
       "  background-color: var(--sklearn-color-fitted-level-2);\n",
       "}\n",
       "\n",
       "/* Estimator-specific style */\n",
       "\n",
       "/* Colorize estimator box */\n",
       "#sk-container-id-9 div.sk-estimator input.sk-toggleable__control:checked~label.sk-toggleable__label {\n",
       "  /* unfitted */\n",
       "  background-color: var(--sklearn-color-unfitted-level-2);\n",
       "}\n",
       "\n",
       "#sk-container-id-9 div.sk-estimator.fitted input.sk-toggleable__control:checked~label.sk-toggleable__label {\n",
       "  /* fitted */\n",
       "  background-color: var(--sklearn-color-fitted-level-2);\n",
       "}\n",
       "\n",
       "#sk-container-id-9 div.sk-label label.sk-toggleable__label,\n",
       "#sk-container-id-9 div.sk-label label {\n",
       "  /* The background is the default theme color */\n",
       "  color: var(--sklearn-color-text-on-default-background);\n",
       "}\n",
       "\n",
       "/* On hover, darken the color of the background */\n",
       "#sk-container-id-9 div.sk-label:hover label.sk-toggleable__label {\n",
       "  color: var(--sklearn-color-text);\n",
       "  background-color: var(--sklearn-color-unfitted-level-2);\n",
       "}\n",
       "\n",
       "/* Label box, darken color on hover, fitted */\n",
       "#sk-container-id-9 div.sk-label.fitted:hover label.sk-toggleable__label.fitted {\n",
       "  color: var(--sklearn-color-text);\n",
       "  background-color: var(--sklearn-color-fitted-level-2);\n",
       "}\n",
       "\n",
       "/* Estimator label */\n",
       "\n",
       "#sk-container-id-9 div.sk-label label {\n",
       "  font-family: monospace;\n",
       "  font-weight: bold;\n",
       "  display: inline-block;\n",
       "  line-height: 1.2em;\n",
       "}\n",
       "\n",
       "#sk-container-id-9 div.sk-label-container {\n",
       "  text-align: center;\n",
       "}\n",
       "\n",
       "/* Estimator-specific */\n",
       "#sk-container-id-9 div.sk-estimator {\n",
       "  font-family: monospace;\n",
       "  border: 1px dotted var(--sklearn-color-border-box);\n",
       "  border-radius: 0.25em;\n",
       "  box-sizing: border-box;\n",
       "  margin-bottom: 0.5em;\n",
       "  /* unfitted */\n",
       "  background-color: var(--sklearn-color-unfitted-level-0);\n",
       "}\n",
       "\n",
       "#sk-container-id-9 div.sk-estimator.fitted {\n",
       "  /* fitted */\n",
       "  background-color: var(--sklearn-color-fitted-level-0);\n",
       "}\n",
       "\n",
       "/* on hover */\n",
       "#sk-container-id-9 div.sk-estimator:hover {\n",
       "  /* unfitted */\n",
       "  background-color: var(--sklearn-color-unfitted-level-2);\n",
       "}\n",
       "\n",
       "#sk-container-id-9 div.sk-estimator.fitted:hover {\n",
       "  /* fitted */\n",
       "  background-color: var(--sklearn-color-fitted-level-2);\n",
       "}\n",
       "\n",
       "/* Specification for estimator info (e.g. \"i\" and \"?\") */\n",
       "\n",
       "/* Common style for \"i\" and \"?\" */\n",
       "\n",
       ".sk-estimator-doc-link,\n",
       "a:link.sk-estimator-doc-link,\n",
       "a:visited.sk-estimator-doc-link {\n",
       "  float: right;\n",
       "  font-size: smaller;\n",
       "  line-height: 1em;\n",
       "  font-family: monospace;\n",
       "  background-color: var(--sklearn-color-background);\n",
       "  border-radius: 1em;\n",
       "  height: 1em;\n",
       "  width: 1em;\n",
       "  text-decoration: none !important;\n",
       "  margin-left: 0.5em;\n",
       "  text-align: center;\n",
       "  /* unfitted */\n",
       "  border: var(--sklearn-color-unfitted-level-1) 1pt solid;\n",
       "  color: var(--sklearn-color-unfitted-level-1);\n",
       "}\n",
       "\n",
       ".sk-estimator-doc-link.fitted,\n",
       "a:link.sk-estimator-doc-link.fitted,\n",
       "a:visited.sk-estimator-doc-link.fitted {\n",
       "  /* fitted */\n",
       "  border: var(--sklearn-color-fitted-level-1) 1pt solid;\n",
       "  color: var(--sklearn-color-fitted-level-1);\n",
       "}\n",
       "\n",
       "/* On hover */\n",
       "div.sk-estimator:hover .sk-estimator-doc-link:hover,\n",
       ".sk-estimator-doc-link:hover,\n",
       "div.sk-label-container:hover .sk-estimator-doc-link:hover,\n",
       ".sk-estimator-doc-link:hover {\n",
       "  /* unfitted */\n",
       "  background-color: var(--sklearn-color-unfitted-level-3);\n",
       "  color: var(--sklearn-color-background);\n",
       "  text-decoration: none;\n",
       "}\n",
       "\n",
       "div.sk-estimator.fitted:hover .sk-estimator-doc-link.fitted:hover,\n",
       ".sk-estimator-doc-link.fitted:hover,\n",
       "div.sk-label-container:hover .sk-estimator-doc-link.fitted:hover,\n",
       ".sk-estimator-doc-link.fitted:hover {\n",
       "  /* fitted */\n",
       "  background-color: var(--sklearn-color-fitted-level-3);\n",
       "  color: var(--sklearn-color-background);\n",
       "  text-decoration: none;\n",
       "}\n",
       "\n",
       "/* Span, style for the box shown on hovering the info icon */\n",
       ".sk-estimator-doc-link span {\n",
       "  display: none;\n",
       "  z-index: 9999;\n",
       "  position: relative;\n",
       "  font-weight: normal;\n",
       "  right: .2ex;\n",
       "  padding: .5ex;\n",
       "  margin: .5ex;\n",
       "  width: min-content;\n",
       "  min-width: 20ex;\n",
       "  max-width: 50ex;\n",
       "  color: var(--sklearn-color-text);\n",
       "  box-shadow: 2pt 2pt 4pt #999;\n",
       "  /* unfitted */\n",
       "  background: var(--sklearn-color-unfitted-level-0);\n",
       "  border: .5pt solid var(--sklearn-color-unfitted-level-3);\n",
       "}\n",
       "\n",
       ".sk-estimator-doc-link.fitted span {\n",
       "  /* fitted */\n",
       "  background: var(--sklearn-color-fitted-level-0);\n",
       "  border: var(--sklearn-color-fitted-level-3);\n",
       "}\n",
       "\n",
       ".sk-estimator-doc-link:hover span {\n",
       "  display: block;\n",
       "}\n",
       "\n",
       "/* \"?\"-specific style due to the `<a>` HTML tag */\n",
       "\n",
       "#sk-container-id-9 a.estimator_doc_link {\n",
       "  float: right;\n",
       "  font-size: 1rem;\n",
       "  line-height: 1em;\n",
       "  font-family: monospace;\n",
       "  background-color: var(--sklearn-color-background);\n",
       "  border-radius: 1rem;\n",
       "  height: 1rem;\n",
       "  width: 1rem;\n",
       "  text-decoration: none;\n",
       "  /* unfitted */\n",
       "  color: var(--sklearn-color-unfitted-level-1);\n",
       "  border: var(--sklearn-color-unfitted-level-1) 1pt solid;\n",
       "}\n",
       "\n",
       "#sk-container-id-9 a.estimator_doc_link.fitted {\n",
       "  /* fitted */\n",
       "  border: var(--sklearn-color-fitted-level-1) 1pt solid;\n",
       "  color: var(--sklearn-color-fitted-level-1);\n",
       "}\n",
       "\n",
       "/* On hover */\n",
       "#sk-container-id-9 a.estimator_doc_link:hover {\n",
       "  /* unfitted */\n",
       "  background-color: var(--sklearn-color-unfitted-level-3);\n",
       "  color: var(--sklearn-color-background);\n",
       "  text-decoration: none;\n",
       "}\n",
       "\n",
       "#sk-container-id-9 a.estimator_doc_link.fitted:hover {\n",
       "  /* fitted */\n",
       "  background-color: var(--sklearn-color-fitted-level-3);\n",
       "}\n",
       "</style><div id=\"sk-container-id-9\" class=\"sk-top-container\"><div class=\"sk-text-repr-fallback\"><pre>RandomForestClassifier(random_state=0)</pre><b>In a Jupyter environment, please rerun this cell to show the HTML representation or trust the notebook. <br />On GitHub, the HTML representation is unable to render, please try loading this page with nbviewer.org.</b></div><div class=\"sk-container\" hidden><div class=\"sk-item\"><div class=\"sk-estimator fitted sk-toggleable\"><input class=\"sk-toggleable__control sk-hidden--visually\" id=\"sk-estimator-id-9\" type=\"checkbox\" checked><label for=\"sk-estimator-id-9\" class=\"sk-toggleable__label fitted sk-toggleable__label-arrow\"><div><div>RandomForestClassifier</div></div><div><a class=\"sk-estimator-doc-link fitted\" rel=\"noreferrer\" target=\"_blank\" href=\"https://scikit-learn.org/1.6/modules/generated/sklearn.ensemble.RandomForestClassifier.html\">?<span>Documentation for RandomForestClassifier</span></a><span class=\"sk-estimator-doc-link fitted\">i<span>Fitted</span></span></div></label><div class=\"sk-toggleable__content fitted\"><pre>RandomForestClassifier(random_state=0)</pre></div> </div></div></div></div>"
      ]
     },
     "execution_count": 384,
     "metadata": {},
     "output_type": "execute_result"
    }
   ],
   "execution_count": 384
  },
  {
   "cell_type": "code",
   "metadata": {
    "scrolled": true,
    "ExecuteTime": {
     "end_time": "2025-04-11T11:29:34.589200Z",
     "start_time": "2025-04-11T11:29:34.580087Z"
    }
   },
   "source": [
    "feature_scores = pd.Series(clf.feature_importances_, index=X_train.columns).sort_values(ascending=False)\n",
    "\n",
    "feature_scores"
   ],
   "outputs": [
    {
     "data": {
      "text/plain": [
       "safety      0.295319\n",
       "persons     0.233856\n",
       "buying      0.151734\n",
       "maint       0.146653\n",
       "lug_boot    0.100048\n",
       "doors       0.072389\n",
       "dtype: float64"
      ]
     },
     "execution_count": 385,
     "metadata": {},
     "output_type": "execute_result"
    }
   ],
   "execution_count": 385
  },
  {
   "cell_type": "code",
   "metadata": {
    "ExecuteTime": {
     "end_time": "2025-04-11T11:29:34.750510Z",
     "start_time": "2025-04-11T11:29:34.637211Z"
    }
   },
   "source": [
    "sns.barplot(x=feature_scores, y=feature_scores.index)\n",
    "\n",
    "plt.xlabel('Feature Importance Score')\n",
    "\n",
    "plt.ylabel('Features')\n",
    "\n",
    "plt.title(\"Visualizing Important Features\")\n",
    "\n",
    "plt.show()"
   ],
   "outputs": [
    {
     "data": {
      "text/plain": [
       "<Figure size 640x480 with 1 Axes>"
      ],
      "image/png": "[encoded data removed]"
     },
     "metadata": {},
     "output_type": "display_data"
    }
   ],
   "execution_count": 386
  },
  {
   "cell_type": "code",
   "metadata": {
    "ExecuteTime": {
     "end_time": "2025-04-11T11:29:34.782095Z",
     "start_time": "2025-04-11T11:29:34.778319Z"
    }
   },
   "source": [
    "#去除doors变量\n",
    "X = df.drop(['class', 'doors'], axis=1)\n",
    "\n",
    "y = df['class']"
   ],
   "outputs": [],
   "execution_count": 387
  },
  {
   "cell_type": "code",
   "metadata": {
    "ExecuteTime": {
     "end_time": "2025-04-11T11:29:34.826594Z",
     "start_time": "2025-04-11T11:29:34.821946Z"
    }
   },
   "source": [
    "from sklearn.model_selection import train_test_split\n",
    "\n",
    "X_train_noDoors, X_test_noDoors, y_train_noDoors, y_test_noDoors = train_test_split(X, y, test_size = 0.33, random_state = 42)"
   ],
   "outputs": [],
   "execution_count": 388
  },
  {
   "metadata": {
    "ExecuteTime": {
     "end_time": "2025-04-11T11:29:34.943385Z",
     "start_time": "2025-04-11T11:29:34.926403Z"
    }
   },
   "cell_type": "code",
   "source": [
    "encoder = ce.OrdinalEncoder(cols=['buying', 'maint', 'persons', 'lug_boot', 'safety'])\n",
    "\n",
    "X_train_noDoors = encoder.fit_transform(X_train_noDoors)\n",
    "\n",
    "X_test_noDoors = encoder.transform(X_test_noDoors)"
   ],
   "outputs": [],
   "execution_count": 389
  },
  {
   "metadata": {
    "ExecuteTime": {
     "end_time": "2025-04-11T11:29:35.132304Z",
     "start_time": "2025-04-11T11:29:34.946358Z"
    }
   },
   "cell_type": "code",
   "source": [
    "#RS 可视化验证去除doors对其他特征的重要性顺序没有影响\n",
    "clf = RandomForestClassifier(n_estimators=100, random_state=0)\n",
    "\n",
    "clf.fit(X_train_noDoors, y_train_noDoors)\n",
    "\n",
    "feature_scores = pd.Series(clf.feature_importances_, index=X_train_noDoors.columns).sort_values(ascending=False)\n",
    "\n",
    "sns.barplot(x=feature_scores, y=feature_scores.index)\n",
    "\n",
    "plt.xlabel('Feature Importance Score')\n",
    "\n",
    "plt.ylabel('Features')\n",
    "\n",
    "plt.title(\"Visualizing Important Features\")\n",
    "\n",
    "plt.show()"
   ],
   "outputs": [
    {
     "data": {
      "text/plain": [
       "<Figure size 640x480 with 1 Axes>"
      ],
      "image/png": "[encoded data removed]"
     },
     "metadata": {},
     "output_type": "display_data"
    }
   ],
   "execution_count": 390
  },
  {
   "metadata": {
    "ExecuteTime": {
     "end_time": "2025-04-11T11:29:35.169029Z",
     "start_time": "2025-04-11T11:29:35.160038Z"
    }
   },
   "cell_type": "code",
   "source": [
    "#RS 对去除doors的数据集应用SMOTE过采样\n",
    "smote = SMOTE(random_state=42)\n",
    "X_train_smote_noDoors, y_train_smote_noDoors = smote.fit_resample(X_train_noDoors, y_train_noDoors)"
   ],
   "outputs": [
    {
     "name": "stderr",
     "output_type": "stream",
     "text": [
      "C:\\Users\\admin\\anaconda3\\Lib\\site-packages\\sklearn\\base.py:474: FutureWarning: `BaseEstimator._validate_data` is deprecated in 1.6 and will be removed in 1.7. Use `sklearn.utils.validation.validate_data` instead. This function becomes public and is part of the scikit-learn developer API.\n",
      "  warnings.warn(\n"
     ]
    }
   ],
   "execution_count": 391
  },
  {
   "cell_type": "code",
   "metadata": {
    "ExecuteTime": {
     "end_time": "2025-04-11T11:29:35.291771Z",
     "start_time": "2025-04-11T11:29:35.193768Z"
    }
   },
   "source": [
    "clf = RandomForestClassifier(random_state=0)\n",
    "\n",
    "clf.fit(X_train_noDoors, y_train_noDoors)\n",
    "\n",
    "y_pred_RF_10_noDoors_holdout = clf.predict(X_test_noDoors)\n",
    "\n",
    "print('Model accuracy score with doors variable removed : {0:0.4f}'. format(accuracy_score(y_test_noDoors, y_pred_RF_10_noDoors_holdout)))"
   ],
   "outputs": [
    {
     "name": "stdout",
     "output_type": "stream",
     "text": [
      "Model accuracy score with doors variable removed : 0.9264\n"
     ]
    }
   ],
   "execution_count": 392
  },
  {
   "metadata": {
    "ExecuteTime": {
     "end_time": "2025-04-11T11:29:35.448035Z",
     "start_time": "2025-04-11T11:29:35.316858Z"
    }
   },
   "cell_type": "code",
   "source": [
    "clf = RandomForestClassifier(random_state=0)\n",
    "\n",
    "clf.fit(X_train_smote_noDoors, y_train_smote_noDoors)\n",
    "\n",
    "y_pred_RF_10_SMOTE_noDoors_holdout = clf.predict(X_test_noDoors)\n",
    "\n",
    "print('SMOTE Data Trained | Model accuracy score with doors variable removed : {0:0.4f}'. format(accuracy_score(y_test_noDoors, y_pred_RF_10_SMOTE_noDoors_holdout)))"
   ],
   "outputs": [
    {
     "name": "stdout",
     "output_type": "stream",
     "text": [
      "SMOTE Data Trained | Model accuracy score with doors variable removed : 0.9457\n"
     ]
    }
   ],
   "execution_count": 393
  },
  {
   "metadata": {
    "ExecuteTime": {
     "end_time": "2025-04-11T11:29:37.712079Z",
     "start_time": "2025-04-11T11:29:35.531907Z"
    }
   },
   "cell_type": "code",
   "source": [
    "#RS 用去除doors的数据集进行k折交叉验证\n",
    "from sklearn.model_selection import cross_val_score\n",
    "\n",
    "#原始数据训练\n",
    "# 创建随机森林分类器\n",
    "rfc = RandomForestClassifier(random_state=0)\n",
    "\n",
    "# 进行k折交叉验证\n",
    "k = 10\n",
    "cv_scores_RF_10_noDoors_kfold = cross_val_score(rfc, X_train_noDoors, y_train_noDoors, cv=k, scoring='accuracy')\n",
    "y_pred_RF_10_noDoors_kfold = cv_scores_RF_10_noDoors_kfold.mean()\n",
    "\n",
    "# 输出交叉验证结果\n",
    "print(\"在去除doors变量的数据集上进行k折交叉验证结果:\")\n",
    "print(f\"{k}-折交叉验证准确率分数:\", cv_scores_RF_10_noDoors_kfold)\n",
    "print(f\"平均交叉验证准确率: {cv_scores_RF_10_noDoors_kfold.mean():0.4f}\")\n",
    "print(f\"标准差: {cv_scores_RF_10_noDoors_kfold.std():0.4f}\")\n",
    "\n",
    "#SMOTE数据训练\n",
    "# 创建随机森林分类器\n",
    "rfc = RandomForestClassifier(random_state=0)\n",
    "\n",
    "# 进行k折交叉验证\n",
    "k = 10\n",
    "cv_scores_RF_10_SMOTE_noDoors_kfold = cross_val_score(rfc, X_train_smote_noDoors, y_train_smote_noDoors, cv=k, scoring='accuracy')\n",
    "y_pred_RF_10_SMOTE_noDoors_kfold = cv_scores_RF_10_SMOTE_noDoors_kfold.mean()\n",
    "\n",
    "# 输出交叉验证结果\n",
    "print(\"\")\n",
    "print(\"在去除doors变量的SMOTE数据集上进行k折交叉验证结果:\")\n",
    "print(f\"{k}-折交叉验证准确率分数:\", cv_scores_RF_10_SMOTE_noDoors_kfold)\n",
    "print(f\"平均交叉验证准确率: {cv_scores_RF_10_SMOTE_noDoors_kfold.mean():0.4f}\")\n",
    "print(f\"标准差: {cv_scores_RF_10_SMOTE_noDoors_kfold.std():0.4f}\")"
   ],
   "outputs": [
    {
     "name": "stdout",
     "output_type": "stream",
     "text": [
      "在去除doors变量的数据集上进行k折交叉验证结果:\n",
      "10-折交叉验证准确率分数: [0.93965517 0.93103448 0.93103448 0.94827586 0.93103448 0.95689655\n",
      " 0.94827586 0.94782609 0.93043478 0.93043478]\n",
      "平均交叉验证准确率: 0.9395\n",
      "标准差: 0.0095\n",
      "\n",
      "在去除doors变量的SMOTE数据集上进行k折交叉验证结果:\n",
      "10-折交叉验证准确率分数: [0.94785276 0.92638037 0.93846154 0.94461538 0.93538462 0.92\n",
      " 0.94153846 0.93846154 0.95076923 0.93538462]\n",
      "平均交叉验证准确率: 0.9379\n",
      "标准差: 0.0089\n"
     ]
    }
   ],
   "execution_count": 396
  },
  {
   "cell_type": "code",
   "metadata": {
    "ExecuteTime": {
     "end_time": "2025-04-11T11:29:37.899454Z",
     "start_time": "2025-04-11T11:29:37.739738Z"
    }
   },
   "source": [
    "from sklearn.metrics import classification_report\n",
    "#XX -----------------------------------------------\n",
    "# 模型比较：Support Vector Machine（SVM）\n",
    "# -----------------------------------------------\n",
    "from sklearn.svm import SVC\n",
    "svc = SVC(kernel='rbf', random_state=0)\n",
    "svc.fit(X_train_smote, y_train_smote)\n",
    "y_pred_SVM_origin_holdout = svc.predict(X_test)\n",
    "\n",
    "print(\"SVM Accuracy:\", accuracy_score(y_test, y_pred_SVM_origin_holdout))\n",
    "print(classification_report(y_test, y_pred_SVM_origin_holdout))\n",
    "\n",
    "# -----------------------------------------------\n",
    "# 模型比较：K-Nearest Neighbors（KNN）\n",
    "# -----------------------------------------------\n",
    "from sklearn.neighbors import KNeighborsClassifier\n",
    "knn = KNeighborsClassifier(n_neighbors=5)\n",
    "knn.fit(X_train_smote, y_train_smote)\n",
    "y_pred_KNN_origin_holdout = knn.predict(X_test)\n",
    "\n",
    "print(\"KNN Accuracy:\", accuracy_score(y_test, y_pred_KNN_origin_holdout))\n",
    "print(classification_report(y_test, y_pred_KNN_origin_holdout))\n"
   ],
   "outputs": [
    {
     "name": "stdout",
     "output_type": "stream",
     "text": [
      "SVM Accuracy: 0.9019264448336253\n",
      "              precision    recall  f1-score   support\n",
      "\n",
      "         acc       0.78      0.84      0.81       129\n",
      "        good       0.42      0.90      0.57        20\n",
      "       unacc       1.00      0.93      0.96       397\n",
      "       vgood       0.95      0.72      0.82        25\n",
      "\n",
      "    accuracy                           0.90       571\n",
      "   macro avg       0.79      0.85      0.79       571\n",
      "weighted avg       0.93      0.90      0.91       571\n",
      "\n",
      "KNN Accuracy: 0.830122591943958\n",
      "              precision    recall  f1-score   support\n",
      "\n",
      "         acc       0.68      0.84      0.75       129\n",
      "        good       0.28      0.55      0.37        20\n",
      "       unacc       0.97      0.87      0.92       397\n",
      "       vgood       0.54      0.28      0.37        25\n",
      "\n",
      "    accuracy                           0.83       571\n",
      "   macro avg       0.62      0.64      0.60       571\n",
      "weighted avg       0.86      0.83      0.84       571\n",
      "\n"
     ]
    }
   ],
   "execution_count": 397
  },
  {
   "cell_type": "code",
   "metadata": {
    "ExecuteTime": {
     "end_time": "2025-04-11T11:29:37.930013Z",
     "start_time": "2025-04-11T11:29:37.927418Z"
    }
   },
   "source": [
    "#XX 输出三种模型的准确率比较\n",
    "# print(\"Model Accuracy Comparision：\")\n",
    "# print(f\"Random Forest: {accuracy_score(y_test, y_pred_):.4f}\")\n",
    "# print(f\"SVM:            {accuracy_score(y_test, y_pred_svc):.4f}\")\n",
    "# print(f\"KNN:            {accuracy_score(y_test, y_pred_knn):.4f}\")\n"
   ],
   "outputs": [],
   "execution_count": 398
  },
  {
   "cell_type": "code",
   "metadata": {
    "ExecuteTime": {
     "end_time": "2025-04-11T11:29:37.962229Z",
     "start_time": "2025-04-11T11:29:37.957479Z"
    }
   },
   "source": [
    "#XX 混淆矩阵\n",
    "# import numpy as np\n",
    "# import seaborn as sns\n",
    "# import matplotlib.pyplot as plt\n",
    "# from sklearn.metrics import confusion_matrix\n",
    "#\n",
    "# def plot_enhanced_confusion_matrix(y_true, y_pred, labels, model_name, cmap='Blues'):\n",
    "#     # 计算原始混淆矩阵\n",
    "#     cm = confusion_matrix(y_true, y_pred, labels=labels)\n",
    "#\n",
    "#     # 计算各类别的统计指标\n",
    "#     recall = np.diag(cm) / np.sum(cm, axis=1)  # 召回率/正确率 (TP/(TP+FN))\n",
    "#     precision = np.diag(cm) / np.sum(cm, axis=0)  # 精确率 (TP/(TP+FP))\n",
    "#     fpr = []  # 假阳性率 (FP/(FP+TN))\n",
    "#     fnr = []  # 假阴性率 (FN/(FN+TP))\n",
    "#\n",
    "#     for i in range(len(labels)):\n",
    "#         fp = np.sum(cm[:, i]) - cm[i, i]\n",
    "#         fn = np.sum(cm[i, :]) - cm[i, i]\n",
    "#         tn = np.sum(cm) - np.sum(cm[i, :]) - np.sum(cm[:, i]) + cm[i, i]\n",
    "#\n",
    "#         fpr.append(fp / (fp + tn) if (fp + tn) > 0 else 0)\n",
    "#         fnr.append(fn / (fn + cm[i, i]) if (fn + cm[i, i]) > 0 else 0)\n",
    "#\n",
    "#     # 创建带注释的矩阵\n",
    "#     annot_matrix = np.zeros_like(cm, dtype=object)\n",
    "#     for i in range(len(labels)):\n",
    "#         for j in range(len(labels)):\n",
    "#             if i == j:\n",
    "#                 # 对角线显示正确率和样本数\n",
    "#                 annot_matrix[i, j] = f\"Acc: {recall[i]:.1%}\\n{cm[i, j]}\"\n",
    "#             else:\n",
    "#                 # 非对角线显示原始计数\n",
    "#                 annot_matrix[i, j] = str(cm[i, j])\n",
    "#\n",
    "#     # 绘制热图\n",
    "#     plt.figure(figsize=(10, 6))  # 增加图形宽度\n",
    "#     ax = sns.heatmap(cm, annot=annot_matrix, fmt='', cmap=cmap,\n",
    "#                     xticklabels=labels, yticklabels=labels,\n",
    "#                     linewidths=0.5, linecolor='lightgray')\n",
    "#\n",
    "#     # 添加额外信息（优化位置和格式）\n",
    "#     info_text = \"\\n\\n\".join([  # 使用两个换行符增加行间距\n",
    "#         f\"{label}: Acc={recall[i]:.1%}, FPR={fpr[i]:.1%}, FNR={fnr[i]:.1%}\"\n",
    "#         for i, label in enumerate(labels)\n",
    "#     ])\n",
    "#\n",
    "#     # 调整信息框位置参数\n",
    "#     plt.text(\n",
    "#         cm.shape[1] + 1.2,  # 向右移动1.2个单位\n",
    "#         cm.shape[0] / 2,    # 垂直居中\n",
    "#         info_text,\n",
    "#         ha='left',\n",
    "#         va='center',        # 垂直居中\n",
    "#         bbox=dict(\n",
    "#             facecolor='white',\n",
    "#             alpha=0.8,\n",
    "#             boxstyle='round,pad=0.5'  # 增加内边距\n",
    "#         ),\n",
    "#         fontsize=11,        # 调整字体大小\n",
    "#         linespacing=1.5     # 增加行间距\n",
    "#     )\n",
    "#\n",
    "#     plt.title(f'Enhanced Confusion Matrix - {model_name}\\n', pad=20)  # 增加标题间距\n",
    "#     plt.xlabel('Predicted Label')\n",
    "#     plt.ylabel('True Label')\n",
    "#     plt.tight_layout()\n",
    "#     plt.show()\n",
    "#\n",
    "# # 设置类别顺序\n",
    "# labels = ['unacc', 'acc', 'good', 'vgood']\n",
    "#\n",
    "# # 混淆矩阵：Random Forest\n",
    "# # plot_enhanced_confusion_matrix(y_test, y_pred, labels, 'Random Forest', cmap='Blues')\n",
    "# # 混淆矩阵：SVM\n",
    "# plot_enhanced_confusion_matrix(y_test, y_pred_SVM_origin_holdout, labels, 'SVM', cmap='Oranges')\n",
    "# # 混淆矩阵：KNN\n",
    "# plot_enhanced_confusion_matrix(y_test, y_pred_KNN_origin_holdout, labels, 'KNN', cmap='Greens')\n"
   ],
   "outputs": [],
   "execution_count": 399
  },
  {
   "cell_type": "code",
   "metadata": {
    "ExecuteTime": {
     "end_time": "2025-04-11T11:29:37.994681Z",
     "start_time": "2025-04-11T11:29:37.990693Z"
    }
   },
   "source": [
    "#Fishhead 模型导出与应用示例\n",
    "# import pickle\n",
    "#\n",
    "# # 保存最佳模型到文件\n",
    "# try:\n",
    "#     best_model = best_rf  # 如果运行了超参数调优\n",
    "# except NameError:\n",
    "#     best_model = rfc_100  # 否则使用100棵决策树的随机森林\n",
    "#\n",
    "# # 在这里添加我之前建议的代码 ↓\n",
    "#\n",
    "# # 1. 使用SMOTE平衡后的数据训练模型\n",
    "# rfc_balanced = RandomForestClassifier(n_estimators=100, random_state=0)\n",
    "# rfc_balanced.fit(X_train_smote, y_train_smote)  # 使用SMOTE平衡后的数据\n",
    "#\n",
    "# # 2. 保存平衡后训练的模型 (使用这个而不是上面的best_model)\n",
    "# with open('car_evaluation_model.pkl', 'wb') as file:\n",
    "#     pickle.dump(rfc_balanced, file)\n",
    "# print(\"模型已保存至 car_evaluation_model.pkl\")\n",
    "#\n",
    "# # 3. 创建真正代表高质量和低质量汽车的测试样例\n",
    "# # 高质量汽车特征 (例如：低价格，低维护成本，4+门，4+座位，大行李箱，高安全性)\n",
    "# high_quality_car = pd.DataFrame([[3, 3, 4, 2, 3, 3]],\n",
    "#                                columns=['buying', 'maint', 'doors', 'persons', 'lug_boot', 'safety'])\n",
    "#\n",
    "# # 低质量汽车特征 (例如：非常高价格，高维护成本，2门，2座位，小行李箱，低安全性)\n",
    "# low_quality_car = pd.DataFrame([[1, 1, 3, 3, 1, 1]],\n",
    "#                               columns=['buying', 'maint', 'doors', 'persons', 'lug_boot', 'safety'])\n",
    "#\n",
    "# # 4. 进行预测\n",
    "# high_quality_prediction = rfc_balanced.predict(high_quality_car)[0]\n",
    "# low_quality_prediction = rfc_balanced.predict(low_quality_car)[0]\n",
    "#\n",
    "# print(\"\\n模型应用示例:\")\n",
    "# print(f\"优质车预测: {high_quality_prediction}\")\n",
    "# print(f\"低质车预测: {low_quality_prediction}\")"
   ],
   "outputs": [],
   "execution_count": 400
  },
  {
   "cell_type": "code",
   "metadata": {
    "ExecuteTime": {
     "end_time": "2025-04-11T11:29:38.025850Z",
     "start_time": "2025-04-11T11:29:38.022656Z"
    }
   },
   "source": [],
   "outputs": [],
   "execution_count": null
  },
  {
   "metadata": {},
   "cell_type": "markdown",
   "source": ""
  }
 ],
 "metadata": {
  "kernelspec": {
   "display_name": "Python 3 (ipykernel)",
   "language": "python",
   "name": "python3"
  },
  "language_info": {
   "codemirror_mode": {
    "name": "ipython",
    "version": 3
   },
   "file_extension": ".py",
   "mimetype": "text/x-python",
   "name": "python",
   "nbconvert_exporter": "python",
   "pygments_lexer": "ipython3",
   "version": "3.12.4"
  }
 },
 "nbformat": 4,
 "nbformat_minor": 4
}
